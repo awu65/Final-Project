{
 "cells": [
  {
   "cell_type": "code",
   "execution_count": null,
   "metadata": {},
   "outputs": [],
   "source": [
    "channels:\n",
    "  - conda-forge\n",
    "dependencies:\n",
    "  - python=3\n",
    "  - bokeh=0.13\n",
    "  - dask=0.20\n",
    "  - dask-ml=0.10.0\n",
    "  - distributed=1.24\n",
    "  - jupyterlab=0.35.1\n",
    "  - nodejs=8.9\n",
    "  - numpy\n",
    "  - pandas\n",
    "  - pyarrow==0.10.0\n",
    "  - scikit-learn=0.20\n",
    "  - matplotlib\n",
    "  - nbserverproxy\n",
    "  - nomkl\n",
    "  - h5py\n",
    "  - xarray\n",
    "  - bottleneck\n",
    "  - py-xgboost\n",
    "  - pip:\n",
    "    - graphviz\n",
    "    - dask_xgboost\n",
    "    - seaborn\n",
    "    - mimesis"
   ]
  }
 ],
 "metadata": {
  "kernelspec": {
   "display_name": "Python 3",
   "language": "python",
   "name": "python3"
  },
  "language_info": {
   "codemirror_mode": {
    "name": "ipython",
    "version": 3
   },
   "file_extension": ".py",
   "mimetype": "text/x-python",
   "name": "python",
   "nbconvert_exporter": "python",
   "pygments_lexer": "ipython3",
   "version": "3.6.6"
  }
 },
 "nbformat": 4,
 "nbformat_minor": 2
}

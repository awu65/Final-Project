{
 "cells": [
  {
   "cell_type": "markdown",
   "metadata": {},
   "source": [
    "## Final Project: Examining the influence of El-Niño Southern Oscillation (ENSO) on tropical storm intensity in the western North Pacific Basin"
   ]
  },
  {
   "cell_type": "markdown",
   "metadata": {},
   "source": [
    "#### Replicating a study performed by [Camargo and Sobel (2004)](https://journals.ametsoc.org/doi/pdf/10.1175/JCLI3457.1). \n",
    "\n",
    "#### Track data from the [Joint Typhoon Warning Center](http://www.metoc.navy.mil/jtwc/jtwc.html?western-pacific) and SST data from the [Climate Prediction Center](http://www.cpc.ncep.noaa.gov/data/indices/)"
   ]
  },
  {
   "cell_type": "code",
   "execution_count": 1,
   "metadata": {},
   "outputs": [],
   "source": [
    "import pandas as pd\n",
    "from datetime import datetime as dt\n",
    "from glob import glob \n",
    "from matplotlib import pyplot as plt\n",
    "import numpy as np"
   ]
  },
  {
   "cell_type": "markdown",
   "metadata": {},
   "source": [
    "### Track Data"
   ]
  },
  {
   "cell_type": "code",
   "execution_count": 2,
   "metadata": {},
   "outputs": [],
   "source": [
    "files=glob('Track_Data/*.txt') #combine all track data .txt files together\n",
    "exceptions = [] \n",
    "cols = ['Basin', 'CY', 'WarningDate', 'TechNum', 'Tech', 'Tau', 'Lat', 'Lon', 'MaxWind', 'MinSeaPres','TY',\n",
    "        'RAD','Windcode','RAD1','RAD2','RAD3','RAD4','RADP','RRP','MRD','Gusts','Eye','Subregion','MaxSeas',\n",
    "       'Initials','DIR','Speed','StormName','Depth','SEAS','Seascode','SEAS1','SEAS2','SEAS3','SEAS4'] \n",
    "#set column names for each file according to the data from the website\n",
    "df = pd.read_csv(files[0],names=cols,index_col='CY') \n",
    "#create dataframe containing data from files "
   ]
  },
  {
   "cell_type": "code",
   "execution_count": 3,
   "metadata": {},
   "outputs": [],
   "source": [
    "for file in files:\n",
    "    try: \n",
    "        txt_data=pd.read_csv(file,names=cols,index_col='CY') #read each .txt file in files so that column names are added to each \n",
    "        df = pd.concat([df,txt_data],axis=0) #combine all read .txt files together into one large file\n",
    "        \n",
    "    except:\n",
    "        exceptions.append(file) #skips over any files that do not follow the suggested format"
   ]
  },
  {
   "cell_type": "code",
   "execution_count": 4,
   "metadata": {},
   "outputs": [],
   "source": [
    "files2=glob('Track_Data/*.dat') #combine all track data .dat files together\n",
    "exceptions = []\n",
    "cols = ['Basin', 'CY', 'WarningDate', 'TechNum', 'Tech', 'Tau', 'Lat', 'Lon', 'MaxWind', 'MinSeaPres','TY',\n",
    "        'RAD','Windcode','RAD1','RAD2','RAD3','RAD4','RADP','RRP','MRD','Gusts','Eye','Subregion','MaxSeas',\n",
    "       'Initials','DIR','Speed','StormName','Depth','SEAS','Seascode','SEAS1','SEAS2','SEAS3','SEAS4']\n",
    "df2 = pd.read_csv(files2[0],names=cols,index_col='CY')"
   ]
  },
  {
   "cell_type": "code",
   "execution_count": 5,
   "metadata": {},
   "outputs": [],
   "source": [
    "for file in files2:\n",
    "    try:\n",
    "        dat_data=pd.read_csv(file,names=cols,index_col='CY') #read each .dat file in files so that column names are added to each \n",
    "        df2 = pd.concat([df2,dat_data],axis=0) #combine all read .txt files together into one large file\n",
    "        \n",
    "    except:\n",
    "        exceptions.append(file) #skips over any files that do not follow the suggested format"
   ]
  },
  {
   "cell_type": "code",
   "execution_count": 6,
   "metadata": {},
   "outputs": [],
   "source": [
    "df3=pd.concat([df,df2]) #combine the txt and dat files together \n",
    "df3=df3[df3.WarningDate !=1969100000] \n",
    "#remove row with 196910000 as WarningDate from the dataframe to make the next step smoother; otherwise leads to error"
   ]
  },
  {
   "cell_type": "code",
   "execution_count": 7,
   "metadata": {},
   "outputs": [
    {
     "data": {
      "text/html": [
       "<div>\n",
       "<style scoped>\n",
       "    .dataframe tbody tr th:only-of-type {\n",
       "        vertical-align: middle;\n",
       "    }\n",
       "\n",
       "    .dataframe tbody tr th {\n",
       "        vertical-align: top;\n",
       "    }\n",
       "\n",
       "    .dataframe thead th {\n",
       "        text-align: right;\n",
       "    }\n",
       "</style>\n",
       "<table border=\"1\" class=\"dataframe\">\n",
       "  <thead>\n",
       "    <tr style=\"text-align: right;\">\n",
       "      <th></th>\n",
       "      <th>Basin</th>\n",
       "      <th>WarningDate</th>\n",
       "      <th>TechNum</th>\n",
       "      <th>Tech</th>\n",
       "      <th>Tau</th>\n",
       "      <th>Lat</th>\n",
       "      <th>Lon</th>\n",
       "      <th>MaxWind</th>\n",
       "      <th>MinSeaPres</th>\n",
       "      <th>TY</th>\n",
       "      <th>...</th>\n",
       "      <th>DIR</th>\n",
       "      <th>Speed</th>\n",
       "      <th>StormName</th>\n",
       "      <th>Depth</th>\n",
       "      <th>SEAS</th>\n",
       "      <th>Seascode</th>\n",
       "      <th>SEAS1</th>\n",
       "      <th>SEAS2</th>\n",
       "      <th>SEAS3</th>\n",
       "      <th>SEAS4</th>\n",
       "    </tr>\n",
       "    <tr>\n",
       "      <th>date</th>\n",
       "      <th></th>\n",
       "      <th></th>\n",
       "      <th></th>\n",
       "      <th></th>\n",
       "      <th></th>\n",
       "      <th></th>\n",
       "      <th></th>\n",
       "      <th></th>\n",
       "      <th></th>\n",
       "      <th></th>\n",
       "      <th></th>\n",
       "      <th></th>\n",
       "      <th></th>\n",
       "      <th></th>\n",
       "      <th></th>\n",
       "      <th></th>\n",
       "      <th></th>\n",
       "      <th></th>\n",
       "      <th></th>\n",
       "      <th></th>\n",
       "      <th></th>\n",
       "    </tr>\n",
       "  </thead>\n",
       "  <tbody>\n",
       "    <tr>\n",
       "      <th>1996-05-07 00:00:00</th>\n",
       "      <td>WP</td>\n",
       "      <td>1996050700</td>\n",
       "      <td></td>\n",
       "      <td>BEST</td>\n",
       "      <td>0</td>\n",
       "      <td>66N</td>\n",
       "      <td>1378E</td>\n",
       "      <td>15</td>\n",
       "      <td>NaN</td>\n",
       "      <td>NaN</td>\n",
       "      <td>...</td>\n",
       "      <td>NaN</td>\n",
       "      <td>NaN</td>\n",
       "      <td>NaN</td>\n",
       "      <td>NaN</td>\n",
       "      <td>NaN</td>\n",
       "      <td>NaN</td>\n",
       "      <td>NaN</td>\n",
       "      <td>NaN</td>\n",
       "      <td>NaN</td>\n",
       "      <td>NaN</td>\n",
       "    </tr>\n",
       "    <tr>\n",
       "      <th>1996-05-07 06:00:00</th>\n",
       "      <td>WP</td>\n",
       "      <td>1996050706</td>\n",
       "      <td></td>\n",
       "      <td>BEST</td>\n",
       "      <td>0</td>\n",
       "      <td>68N</td>\n",
       "      <td>1380E</td>\n",
       "      <td>15</td>\n",
       "      <td>NaN</td>\n",
       "      <td>NaN</td>\n",
       "      <td>...</td>\n",
       "      <td>NaN</td>\n",
       "      <td>NaN</td>\n",
       "      <td>NaN</td>\n",
       "      <td>NaN</td>\n",
       "      <td>NaN</td>\n",
       "      <td>NaN</td>\n",
       "      <td>NaN</td>\n",
       "      <td>NaN</td>\n",
       "      <td>NaN</td>\n",
       "      <td>NaN</td>\n",
       "    </tr>\n",
       "    <tr>\n",
       "      <th>1996-05-07 12:00:00</th>\n",
       "      <td>WP</td>\n",
       "      <td>1996050712</td>\n",
       "      <td></td>\n",
       "      <td>BEST</td>\n",
       "      <td>0</td>\n",
       "      <td>69N</td>\n",
       "      <td>1384E</td>\n",
       "      <td>15</td>\n",
       "      <td>NaN</td>\n",
       "      <td>NaN</td>\n",
       "      <td>...</td>\n",
       "      <td>NaN</td>\n",
       "      <td>NaN</td>\n",
       "      <td>NaN</td>\n",
       "      <td>NaN</td>\n",
       "      <td>NaN</td>\n",
       "      <td>NaN</td>\n",
       "      <td>NaN</td>\n",
       "      <td>NaN</td>\n",
       "      <td>NaN</td>\n",
       "      <td>NaN</td>\n",
       "    </tr>\n",
       "    <tr>\n",
       "      <th>1996-05-07 18:00:00</th>\n",
       "      <td>WP</td>\n",
       "      <td>1996050718</td>\n",
       "      <td></td>\n",
       "      <td>BEST</td>\n",
       "      <td>0</td>\n",
       "      <td>70N</td>\n",
       "      <td>1389E</td>\n",
       "      <td>15</td>\n",
       "      <td>NaN</td>\n",
       "      <td>NaN</td>\n",
       "      <td>...</td>\n",
       "      <td>NaN</td>\n",
       "      <td>NaN</td>\n",
       "      <td>NaN</td>\n",
       "      <td>NaN</td>\n",
       "      <td>NaN</td>\n",
       "      <td>NaN</td>\n",
       "      <td>NaN</td>\n",
       "      <td>NaN</td>\n",
       "      <td>NaN</td>\n",
       "      <td>NaN</td>\n",
       "    </tr>\n",
       "    <tr>\n",
       "      <th>1996-05-08 00:00:00</th>\n",
       "      <td>WP</td>\n",
       "      <td>1996050800</td>\n",
       "      <td></td>\n",
       "      <td>BEST</td>\n",
       "      <td>0</td>\n",
       "      <td>71N</td>\n",
       "      <td>1392E</td>\n",
       "      <td>15</td>\n",
       "      <td>NaN</td>\n",
       "      <td>NaN</td>\n",
       "      <td>...</td>\n",
       "      <td>NaN</td>\n",
       "      <td>NaN</td>\n",
       "      <td>NaN</td>\n",
       "      <td>NaN</td>\n",
       "      <td>NaN</td>\n",
       "      <td>NaN</td>\n",
       "      <td>NaN</td>\n",
       "      <td>NaN</td>\n",
       "      <td>NaN</td>\n",
       "      <td>NaN</td>\n",
       "    </tr>\n",
       "  </tbody>\n",
       "</table>\n",
       "<p>5 rows × 34 columns</p>\n",
       "</div>"
      ],
      "text/plain": [
       "                    Basin WarningDate TechNum   Tech Tau    Lat     Lon  \\\n",
       "date                                                                      \n",
       "1996-05-07 00:00:00    WP  1996050700           BEST   0    66N   1378E   \n",
       "1996-05-07 06:00:00    WP  1996050706           BEST   0    68N   1380E   \n",
       "1996-05-07 12:00:00    WP  1996050712           BEST   0    69N   1384E   \n",
       "1996-05-07 18:00:00    WP  1996050718           BEST   0    70N   1389E   \n",
       "1996-05-08 00:00:00    WP  1996050800           BEST   0    71N   1392E   \n",
       "\n",
       "                    MaxWind MinSeaPres   TY  ...    DIR Speed  StormName  \\\n",
       "date                                         ...                           \n",
       "1996-05-07 00:00:00      15        NaN  NaN  ...    NaN   NaN        NaN   \n",
       "1996-05-07 06:00:00      15        NaN  NaN  ...    NaN   NaN        NaN   \n",
       "1996-05-07 12:00:00      15        NaN  NaN  ...    NaN   NaN        NaN   \n",
       "1996-05-07 18:00:00      15        NaN  NaN  ...    NaN   NaN        NaN   \n",
       "1996-05-08 00:00:00      15        NaN  NaN  ...    NaN   NaN        NaN   \n",
       "\n",
       "                     Depth  SEAS  Seascode SEAS1  SEAS2  SEAS3  SEAS4  \n",
       "date                                                                   \n",
       "1996-05-07 00:00:00    NaN   NaN       NaN   NaN    NaN    NaN    NaN  \n",
       "1996-05-07 06:00:00    NaN   NaN       NaN   NaN    NaN    NaN    NaN  \n",
       "1996-05-07 12:00:00    NaN   NaN       NaN   NaN    NaN    NaN    NaN  \n",
       "1996-05-07 18:00:00    NaN   NaN       NaN   NaN    NaN    NaN    NaN  \n",
       "1996-05-08 00:00:00    NaN   NaN       NaN   NaN    NaN    NaN    NaN  \n",
       "\n",
       "[5 rows x 34 columns]"
      ]
     },
     "execution_count": 7,
     "metadata": {},
     "output_type": "execute_result"
    }
   ],
   "source": [
    "date_list=[]\n",
    "for i in df3.WarningDate:\n",
    "    time=str(i) #convert integers in WarningDate to string\n",
    "    time2=dt.strptime(time,'%Y%m%d%H') #convert string to datetime with year/month/day/hour format\n",
    "    date_list.append(time2) #place all converted datetime values into a list\n",
    "        \n",
    "df3['date']=date_list #include all listed datetimes as a new column in df3 as 'date'\n",
    "df3=df3.set_index('date') #set index as date\n",
    "df3.head()"
   ]
  },
  {
   "cell_type": "markdown",
   "metadata": {},
   "source": [
    "### SST"
   ]
  },
  {
   "cell_type": "code",
   "execution_count": 8,
   "metadata": {},
   "outputs": [
    {
     "data": {
      "text/html": [
       "<div>\n",
       "<style scoped>\n",
       "    .dataframe tbody tr th:only-of-type {\n",
       "        vertical-align: middle;\n",
       "    }\n",
       "\n",
       "    .dataframe tbody tr th {\n",
       "        vertical-align: top;\n",
       "    }\n",
       "\n",
       "    .dataframe thead th {\n",
       "        text-align: right;\n",
       "    }\n",
       "</style>\n",
       "<table border=\"1\" class=\"dataframe\">\n",
       "  <thead>\n",
       "    <tr style=\"text-align: right;\">\n",
       "      <th></th>\n",
       "      <th>MON</th>\n",
       "      <th>NINO1+2</th>\n",
       "      <th>ANOM</th>\n",
       "      <th>NINO3</th>\n",
       "      <th>ANOM.1</th>\n",
       "      <th>NINO4</th>\n",
       "      <th>ANOM.2</th>\n",
       "      <th>NINO3.4</th>\n",
       "      <th>ANOM3</th>\n",
       "    </tr>\n",
       "    <tr>\n",
       "      <th>YR</th>\n",
       "      <th></th>\n",
       "      <th></th>\n",
       "      <th></th>\n",
       "      <th></th>\n",
       "      <th></th>\n",
       "      <th></th>\n",
       "      <th></th>\n",
       "      <th></th>\n",
       "      <th></th>\n",
       "    </tr>\n",
       "  </thead>\n",
       "  <tbody>\n",
       "    <tr>\n",
       "      <th>1950</th>\n",
       "      <td>7</td>\n",
       "      <td>20.31</td>\n",
       "      <td>-1.62</td>\n",
       "      <td>24.91</td>\n",
       "      <td>-0.78</td>\n",
       "      <td>27.64</td>\n",
       "      <td>-1.09</td>\n",
       "      <td>26.29</td>\n",
       "      <td>-0.89</td>\n",
       "    </tr>\n",
       "    <tr>\n",
       "      <th>1950</th>\n",
       "      <td>8</td>\n",
       "      <td>20.12</td>\n",
       "      <td>-0.89</td>\n",
       "      <td>24.47</td>\n",
       "      <td>-0.63</td>\n",
       "      <td>27.54</td>\n",
       "      <td>-1.11</td>\n",
       "      <td>25.88</td>\n",
       "      <td>-0.95</td>\n",
       "    </tr>\n",
       "    <tr>\n",
       "      <th>1950</th>\n",
       "      <td>9</td>\n",
       "      <td>19.56</td>\n",
       "      <td>-1.18</td>\n",
       "      <td>24.01</td>\n",
       "      <td>-0.92</td>\n",
       "      <td>27.27</td>\n",
       "      <td>-1.39</td>\n",
       "      <td>25.74</td>\n",
       "      <td>-0.99</td>\n",
       "    </tr>\n",
       "    <tr>\n",
       "      <th>1950</th>\n",
       "      <td>10</td>\n",
       "      <td>19.99</td>\n",
       "      <td>-1.06</td>\n",
       "      <td>24.17</td>\n",
       "      <td>-0.78</td>\n",
       "      <td>27.13</td>\n",
       "      <td>-1.51</td>\n",
       "      <td>25.69</td>\n",
       "      <td>-0.98</td>\n",
       "    </tr>\n",
       "    <tr>\n",
       "      <th>1951</th>\n",
       "      <td>7</td>\n",
       "      <td>23.82</td>\n",
       "      <td>1.89</td>\n",
       "      <td>26.42</td>\n",
       "      <td>0.73</td>\n",
       "      <td>29.12</td>\n",
       "      <td>0.39</td>\n",
       "      <td>27.60</td>\n",
       "      <td>0.42</td>\n",
       "    </tr>\n",
       "  </tbody>\n",
       "</table>\n",
       "</div>"
      ],
      "text/plain": [
       "      MON  NINO1+2  ANOM  NINO3  ANOM.1  NINO4  ANOM.2  NINO3.4  ANOM3\n",
       "YR                                                                    \n",
       "1950    7    20.31 -1.62  24.91   -0.78  27.64   -1.09    26.29  -0.89\n",
       "1950    8    20.12 -0.89  24.47   -0.63  27.54   -1.11    25.88  -0.95\n",
       "1950    9    19.56 -1.18  24.01   -0.92  27.27   -1.39    25.74  -0.99\n",
       "1950   10    19.99 -1.06  24.17   -0.78  27.13   -1.51    25.69  -0.98\n",
       "1951    7    23.82  1.89  26.42    0.73  29.12    0.39    27.60   0.42"
      ]
     },
     "execution_count": 8,
     "metadata": {},
     "output_type": "execute_result"
    }
   ],
   "source": [
    "sst=pd.read_csv('ersst5.nino.mth.81-10.ascii',sep='\\s+') #read data file and separate values by spaces\n",
    "sst=sst.set_index('YR') #set index to year\n",
    "peak=sst[(sst.MON>=7) & (sst.MON<=10)] \n",
    "#select peak period identified in paper (July-October)\n",
    "peak=peak.rename(columns={'ANOM.3':'ANOM3'}) \n",
    "#rename column of interest to prevent future errors when referring to it\n",
    "peak.head()"
   ]
  },
  {
   "cell_type": "markdown",
   "metadata": {},
   "source": [
    "## Figures"
   ]
  },
  {
   "cell_type": "code",
   "execution_count": 9,
   "metadata": {},
   "outputs": [],
   "source": [
    "#Calculating ACE and mean anomaly\n",
    "\n",
    "df3['ACE']=(df3['MaxWind']**2)/10000\n",
    "#calculate ACE values using MaxWind values and include in new column\n",
    "\n",
    "present_anom=peak.ANOM3.groupby('YR').mean()\n",
    "#get mean anomaly values for each year from 1950-2018\n",
    "\n",
    "present_ACE=df3.ACE.groupby(df3.index.year).sum() \n",
    "#determine mean ACE values for each year from 1950-2017\n",
    "\n",
    "present_data=pd.concat([np.log(present_ACE),present_anom],axis=1)\n",
    "#combine the ACE and anom data into one dataframe covering 1950-2018\n",
    "\n",
    "past_data=present_data[present_data.index<=2002]\n",
    "#select only years that were used during the study (1950-2002)"
   ]
  },
  {
   "cell_type": "markdown",
   "metadata": {},
   "source": [
    "##### In Carmago and Sobel (2004), El Nino and La Nina years were identified as the 13 years with the highest and lowest mean anomaly values, respectively, with neutral years consisting of those with values in between those extremes. I will be consistent in this definition when evaluation the full data set including the years 2003-2018, which may cause some years to be substituted for others."
   ]
  },
  {
   "cell_type": "code",
   "execution_count": 10,
   "metadata": {},
   "outputs": [
    {
     "data": {
      "text/plain": [
       "(1997    2.0300\n",
       " 1987    1.4800\n",
       " 1972    1.2200\n",
       " 1982    1.1850\n",
       " 1965    1.1575\n",
       " 2002    1.0300\n",
       " 1957    0.8250\n",
       " 1991    0.7225\n",
       " 1963    0.6475\n",
       " 1994    0.5450\n",
       " 1986    0.4275\n",
       " 1951    0.4100\n",
       " 1977    0.3175\n",
       " Name: ANOM3, dtype: float64, 1973   -1.6575\n",
       " 1975   -1.5600\n",
       " 1955   -1.5150\n",
       " 1988   -1.4125\n",
       " 1954   -1.3825\n",
       " 1998   -1.2075\n",
       " 1964   -1.2000\n",
       " 1999   -1.1350\n",
       " 1970   -1.0925\n",
       " 1971   -1.0850\n",
       " 1956   -1.0050\n",
       " 1950   -0.9525\n",
       " 1961   -0.7125\n",
       " Name: ANOM3, dtype: float64)"
      ]
     },
     "execution_count": 10,
     "metadata": {},
     "output_type": "execute_result"
    }
   ],
   "source": [
    "#Determining El Nino, La Nina, and Neutral years\n",
    "\n",
    "past_data.ANOM3.nlargest(13),past_data.ANOM3.nsmallest(13),\n",
    "#lowest 13 ACE values were determined to be la nina years; highest value -0.7125\n",
    "#neutral years identified as years with values in between 0.3175 and -0.7125"
   ]
  },
  {
   "cell_type": "code",
   "execution_count": 11,
   "metadata": {},
   "outputs": [
    {
     "data": {
      "text/plain": [
       "(2015    2.0325\n",
       " 1997    2.0300\n",
       " 1987    1.4800\n",
       " 1972    1.2200\n",
       " 1982    1.1850\n",
       " 1965    1.1575\n",
       " 2002    1.0300\n",
       " 1957    0.8250\n",
       " 2004    0.7375\n",
       " 1991    0.7225\n",
       " 2009    0.6950\n",
       " 1963    0.6475\n",
       " 1994    0.5450\n",
       " Name: ANOM3, dtype: float64, 1973   -1.6575\n",
       " 1975   -1.5600\n",
       " 1955   -1.5150\n",
       " 1988   -1.4125\n",
       " 2010   -1.3950\n",
       " 1954   -1.3825\n",
       " 1998   -1.2075\n",
       " 1964   -1.2000\n",
       " 1999   -1.1350\n",
       " 1970   -1.0925\n",
       " 1971   -1.0850\n",
       " 1956   -1.0050\n",
       " 1950   -0.9525\n",
       " Name: ANOM3, dtype: float64)"
      ]
     },
     "execution_count": 11,
     "metadata": {},
     "output_type": "execute_result"
    }
   ],
   "source": [
    "present_data.ANOM3.nlargest(13), present_data.ANOM3.nsmallest(13)\n",
    "#13th highest value is 0.545\n",
    "#13th lowest value is -0.9525"
   ]
  },
  {
   "cell_type": "code",
   "execution_count": 12,
   "metadata": {},
   "outputs": [
    {
     "name": "stderr",
     "output_type": "stream",
     "text": [
      "/opt/conda/lib/python3.6/site-packages/ipykernel_launcher.py:5: SettingWithCopyWarning: \n",
      "A value is trying to be set on a copy of a slice from a DataFrame.\n",
      "Try using .loc[row_indexer,col_indexer] = value instead\n",
      "\n",
      "See the caveats in the documentation: http://pandas.pydata.org/pandas-docs/stable/indexing.html#indexing-view-versus-copy\n",
      "  \"\"\"\n"
     ]
    },
    {
     "data": {
      "text/html": [
       "<div>\n",
       "<style scoped>\n",
       "    .dataframe tbody tr th:only-of-type {\n",
       "        vertical-align: middle;\n",
       "    }\n",
       "\n",
       "    .dataframe tbody tr th {\n",
       "        vertical-align: top;\n",
       "    }\n",
       "\n",
       "    .dataframe thead th {\n",
       "        text-align: right;\n",
       "    }\n",
       "</style>\n",
       "<table border=\"1\" class=\"dataframe\">\n",
       "  <thead>\n",
       "    <tr style=\"text-align: right;\">\n",
       "      <th></th>\n",
       "      <th>ACE</th>\n",
       "      <th>ANOM3</th>\n",
       "      <th>Years</th>\n",
       "    </tr>\n",
       "  </thead>\n",
       "  <tbody>\n",
       "    <tr>\n",
       "      <th>1950</th>\n",
       "      <td>5.105551</td>\n",
       "      <td>-0.9525</td>\n",
       "      <td>La Nina</td>\n",
       "    </tr>\n",
       "    <tr>\n",
       "      <th>1951</th>\n",
       "      <td>5.657494</td>\n",
       "      <td>0.4100</td>\n",
       "      <td>Neutral</td>\n",
       "    </tr>\n",
       "    <tr>\n",
       "      <th>1952</th>\n",
       "      <td>5.804804</td>\n",
       "      <td>-0.4925</td>\n",
       "      <td>Neutral</td>\n",
       "    </tr>\n",
       "    <tr>\n",
       "      <th>1953</th>\n",
       "      <td>5.969117</td>\n",
       "      <td>0.2100</td>\n",
       "      <td>Neutral</td>\n",
       "    </tr>\n",
       "    <tr>\n",
       "      <th>1954</th>\n",
       "      <td>5.755125</td>\n",
       "      <td>-1.3825</td>\n",
       "      <td>La Nina</td>\n",
       "    </tr>\n",
       "  </tbody>\n",
       "</table>\n",
       "</div>"
      ],
      "text/plain": [
       "           ACE   ANOM3    Years\n",
       "1950  5.105551 -0.9525  La Nina\n",
       "1951  5.657494  0.4100  Neutral\n",
       "1952  5.804804 -0.4925  Neutral\n",
       "1953  5.969117  0.2100  Neutral\n",
       "1954  5.755125 -1.3825  La Nina"
      ]
     },
     "execution_count": 12,
     "metadata": {},
     "output_type": "execute_result"
    }
   ],
   "source": [
    "#Add new columns to past and present dataframes to determine which category each year belongs to\n",
    "\n",
    "m1 = past_data.ANOM3 >= 0.3175 #isolating El Nino years\n",
    "m2 = past_data.ANOM3 <= -0.7125 #isolating La Nina years\n",
    "past_data['Years'] = np.select([m1, m2], ['El Nino', 'La Nina'], default='Neutral')\n",
    "\n",
    "m3 = present_data.ANOM3 >= 0.545\n",
    "m4 = present_data.ANOM3 <= -0.9525\n",
    "present_data['Years'] = np.select([m3, m4], ['El Nino', 'La Nina'], default='Neutral')\n",
    "\n",
    "present_data.head()"
   ]
  },
  {
   "cell_type": "markdown",
   "metadata": {},
   "source": [
    "### Replicating Figure 1a"
   ]
  },
  {
   "cell_type": "code",
   "execution_count": 13,
   "metadata": {},
   "outputs": [
    {
     "data": {
      "image/png": "[encoded data removed]",
      "text/plain": [
       "<Figure size 1080x1080 with 2 Axes>"
      ]
     },
     "metadata": {},
     "output_type": "display_data"
    }
   ],
   "source": [
    "fig, axes = plt.subplots(figsize=(15,15), nrows=2)\n",
    "ax0, ax1 = axes\n",
    "\n",
    "#plot mean anomalies for each year from 1950-2002\n",
    "#red bars indicate El Nino years, blue bars indicate La Nina years, and gray bars indicate neutral years\n",
    "past_data.ANOM3.where(past_data.ANOM3>=0.3175).plot(kind='bar',ax=ax0,color='red')\n",
    "past_data.ANOM3.where(past_data.ANOM3<=-0.7125).plot(kind='bar',ax=ax0,color='blue')\n",
    "past_data.ANOM3.where((past_data.ANOM3>=-0.7125)&(past_data.ANOM3<=0.3175)).plot(kind='bar',ax=ax0,color='gray')\n",
    "ax0.set_xlabel(\"Year\")\n",
    "ax0.set_ylabel(\"Nino 3.4 Anomalies\")\n",
    "ax0.set_title('Nino 3.4 Anomalies by Year (1950-2002)')\n",
    "ax0.legend(['El Nino','La Nina','Neutral'])\n",
    "\n",
    "#plot mean anomalies for each year from 1950-2002\n",
    "present_data.ANOM3.where(present_data.ANOM3>=0.545).plot(kind='bar',ax=ax1,color='red')\n",
    "present_data.ANOM3.where(present_data.ANOM3<=-0.9525).plot(kind='bar',ax=ax1,color='blue')\n",
    "present_data.ANOM3.where((present_data.ANOM3>=-0.9525)&(present_data.ANOM3<=0.545)).plot(kind='bar',ax=ax1,color='gray')\n",
    "ax1.set_title('Nino 3.4 Anomalies by Year (1950-2018)')\n",
    "ax1.set_xlabel(\"Year\")\n",
    "ax1.set_ylabel(\"Nino 3.4 Anomalies\")\n",
    "ax1.legend(['El Nino','La Nina','Neutral']);"
   ]
  },
  {
   "cell_type": "markdown",
   "metadata": {},
   "source": [
    "### Replicating Figure 1b"
   ]
  },
  {
   "cell_type": "code",
   "execution_count": 20,
   "metadata": {},
   "outputs": [
    {
     "data": {
      "image/png": "[encoded data removed]",
      "text/plain": [
       "<Figure size 1080x1080 with 2 Axes>"
      ]
     },
     "metadata": {},
     "output_type": "display_data"
    }
   ],
   "source": [
    "#Replicating Figure 1b from Camargo and Sobel (2004)\n",
    "\n",
    "fig, axes = plt.subplots(figsize=(15,15), nrows=2)\n",
    "ax0, ax1 = axes\n",
    "\n",
    "past_data.ACE.plot(kind='bar',ax=ax0,color='green') #plot ACE for each year from 1950-2002\n",
    "median=[np.median(past_data.ACE) for i in past_data.ACE] #median is 5.82\n",
    "percent25=[np.percentile(past_data.ACE,25) for i in past_data.ACE]\n",
    "percent75=[np.percentile(past_data.ACE,75) for i in past_data.ACE]\n",
    "ax0.plot(median,color='black')\n",
    "ax0.plot(percent25,color='black',linestyle='--')\n",
    "ax0.plot(percent75,color='black',linestyle=':')\n",
    "ax0.set_xlabel(\"Year\")\n",
    "ax0.set_ylabel(\"ACE $(m/s)^2$\")\n",
    "ax0.set_title('ACE by Year (1950-2002)')\n",
    "ax0.legend(['Median','25 Percentile','75 Percentile'])\n",
    "\n",
    "present_data=present_data[present_data.ACE !=2018] \n",
    "present_data.ACE.plot(kind='bar',ax=ax1,color='green') #plot ACE for each year from 1950-2002\n",
    "median2=[np.median(present_data.ACE) for i in present_data.ACE] #median is 5.91\n",
    "percent25_2=[np.percentile(present_data.ACE,25) for i in present_data.ACE]\n",
    "percent75_2=[np.percentile(present_data.ACE,75) for i in present_data.ACE]\n",
    "ax1.plot(median2,color='black')\n",
    "ax1.plot(percent25_2,color='black',linestyle='--')\n",
    "ax1.plot(percent75_2,color='black',linestyle=':')\n",
    "ax1.set_title('ACE by Year (1950-2017)')\n",
    "ax1.set_xlabel(\"Year\")\n",
    "ax1.set_ylabel(\"ACE $(m/s)^2$\")\n",
    "ax1.legend(['Median','25 Percentile','75 Percentile']);"
   ]
  },
  {
   "cell_type": "markdown",
   "metadata": {},
   "source": [
    "### Replicating Figure 2"
   ]
  },
  {
   "cell_type": "code",
   "execution_count": 15,
   "metadata": {},
   "outputs": [
    {
     "data": {
      "image/png": "[encoded data removed]",
      "text/plain": [
       "<Figure size 864x864 with 2 Axes>"
      ]
     },
     "metadata": {},
     "output_type": "display_data"
    }
   ],
   "source": [
    "#Replicating Figure 2 from Camargo and Sobel (2004)\n",
    "\n",
    "fig, axes = plt.subplots(figsize=(12,12), nrows=2)\n",
    "ax0, ax1 = axes\n",
    "\n",
    "p = np.polyfit(past_data.ANOM3,past_data.ACE, deg=1)\n",
    "x = past_data.ANOM3\n",
    "y = p[1] + p[0] * past_data.ANOM3\n",
    "#above steps used to make regression line\n",
    "ax0.scatter(x,past_data.ACE) #plot all ACE and anomaly values from 1950-2002\n",
    "ax0.plot(x, y) #plot regression line\n",
    "ax0.set_xlabel(\"Nino 3.4 Anomaly\")\n",
    "ax0.set_ylabel(\"ACE $(m/s)^2$\")\n",
    "ax0.set_title('Correlation between Nino 3.4 ACE and Anomalies (1950-2002)')\n",
    "\n",
    "\n",
    "present_data=present_data[present_data.index !=2018] #remove 2018 since it produces NaN results\n",
    "p2 = np.polyfit(present_data.ANOM3,present_data.ACE, deg=1)\n",
    "x2 = present_data.ANOM3\n",
    "y2 = p[1] + p[0] * present_data.ANOM3\n",
    "ax1.scatter(x2,present_data.ACE) #plot all ACE and anomaly values from 1950-2017\n",
    "ax1.plot(x2, y2)\n",
    "ax1.set_xlabel(\"Nino 3.4 Anomaly\")\n",
    "ax1.set_ylabel(\"ACE $(m/s)^2$\")\n",
    "ax1.set_title('Correlation between Nino 3.4 ACE and Anomalies (1950-2017)');"
   ]
  },
  {
   "cell_type": "code",
   "execution_count": 16,
   "metadata": {},
   "outputs": [
    {
     "data": {
      "text/plain": [
       "LinregressResult(slope=0.2597810111415447, intercept=5.890536063023559, rvalue=0.4553853563072438, pvalue=0.0006119300106354145, stderr=0.07111757042344789)"
      ]
     },
     "execution_count": 16,
     "metadata": {},
     "output_type": "execute_result"
    }
   ],
   "source": [
    "from scipy import stats\n",
    "stats.linregress(past_data.ANOM3,past_data.ACE)\n",
    "#correlation is significant (p<0.05)"
   ]
  },
  {
   "cell_type": "code",
   "execution_count": 17,
   "metadata": {},
   "outputs": [
    {
     "data": {
      "text/plain": [
       "LinregressResult(slope=0.30703377110751623, intercept=6.0145170447248, rvalue=0.4860201005230692, pvalue=2.6498548686033883e-05, stderr=0.06795874617542387)"
      ]
     },
     "execution_count": 17,
     "metadata": {},
     "output_type": "execute_result"
    }
   ],
   "source": [
    "stats.linregress(present_data.ANOM3,present_data.ACE)\n",
    "#correlation is significant (p<0.05)"
   ]
  },
  {
   "cell_type": "markdown",
   "metadata": {},
   "source": [
    "### Replicating Figure 4"
   ]
  },
  {
   "cell_type": "code",
   "execution_count": 18,
   "metadata": {},
   "outputs": [
    {
     "data": {
      "image/png": "[encoded data removed]",
      "text/plain": [
       "<Figure size 864x864 with 2 Axes>"
      ]
     },
     "metadata": {},
     "output_type": "display_data"
    }
   ],
   "source": [
    "fig, axes = plt.subplots(figsize=(12,12), nrows=2)\n",
    "ax0, ax1 = axes\n",
    "\n",
    "\n",
    "#plot ACE for each year type from 1950-2002\n",
    "past_data.boxplot(column='ACE',by='Years',grid=False,showmeans=True,ax=ax0) \n",
    "ax0.set_xlabel(\"Year Type\")\n",
    "ax0.set_ylabel(\"ACE $(m/s)^2$\")\n",
    "ax0.set_title('ACE by Year Type (1950-2002)')\n",
    "\n",
    "#plot ACE for each year type from 1950-2002\n",
    "present_data.boxplot(column='ACE',by='Years',grid=False,showmeans=True,ax=ax1) \n",
    "ax1.set_title('ACE by Year Type (1950-2017)')\n",
    "ax1.set_xlabel(\"Year Type\")\n",
    "ax1.set_ylabel(\"ACE $(m/s)^2$\");"
   ]
  },
  {
   "cell_type": "markdown",
   "metadata": {},
   "source": [
    "##### Overall the various trends observed by Camargo and Sobel(2004) appear to stay consistent to the present day, as ACE values continue to remain significantly positively correlated with higher anomalies (Figure 2), indicating that storms are generally more powerful in El Nino years compared to La Nina ones and storm strength in neutral years lay somewhere in between, as observed in Figure 3. Additionally, with the inclusion of data from 2003-2018, some of these trends have become more prominent with more recent storms replacing years that were considered part of El Nino or La Nina in the study, as seen in Figure 1a in which 2010 and 2016 have replaced 1950 and 1951 as La Nina and El Nino years respectively. Similarly, the more emphasized values of these two storms have also noticeably shifted the positions of El Nino and La Nina in Figure 3, with the former placed higher than before and the latter shifted slightly lower. "
   ]
  },
  {
   "cell_type": "markdown",
   "metadata": {},
   "source": [
    "##### Unfortunately I was unable to replicate Figure 7 from the paper as I had proposed since no storms were identified as TC (tropical cyclone) in the dataset. It is possible that the information was in the files that I was unable to read due to formatting issues."
   ]
  },
  {
   "cell_type": "code",
   "execution_count": null,
   "metadata": {},
   "outputs": [],
   "source": []
  }
 ],
 "metadata": {
  "kernelspec": {
   "display_name": "Python 3",
   "language": "python",
   "name": "python3"
  },
  "language_info": {
   "codemirror_mode": {
    "name": "ipython",
    "version": 3
   },
   "file_extension": ".py",
   "mimetype": "text/x-python",
   "name": "python",
   "nbconvert_exporter": "python",
   "pygments_lexer": "ipython3",
   "version": "3.6.6"
  }
 },
 "nbformat": 4,
 "nbformat_minor": 2
}
